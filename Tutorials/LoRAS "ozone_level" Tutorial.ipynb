{
 "cells": [
  {
   "cell_type": "markdown",
   "metadata": {},
   "source": [
    "# LoRAS \"ozone_level\" Tutorial"
   ]
  },
  {
   "cell_type": "markdown",
   "metadata": {},
   "source": [
    "## Prepare dataset"
   ]
  },
  {
   "cell_type": "code",
   "execution_count": 1,
   "metadata": {},
   "outputs": [],
   "source": [
    "import pandas as pd\n",
    "import numpy as np"
   ]
  },
  {
   "cell_type": "code",
   "execution_count": 2,
   "metadata": {},
   "outputs": [
    {
     "name": "stderr",
     "output_type": "stream",
     "text": [
      "Using TensorFlow backend.\n"
     ]
    },
    {
     "data": {
      "text/plain": [
       "(2536, 72)"
      ]
     },
     "execution_count": 2,
     "metadata": {},
     "output_type": "execute_result"
    }
   ],
   "source": [
    "from collections import Counter\n",
    "from imblearn.datasets import fetch_datasets\n",
    "data = fetch_datasets()['ozone_level']\n",
    "data.data.shape"
   ]
  },
  {
   "cell_type": "code",
   "execution_count": 3,
   "metadata": {},
   "outputs": [
    {
     "name": "stdout",
     "output_type": "stream",
     "text": [
      "(2536,)\n",
      "(2536, 72)\n"
     ]
    }
   ],
   "source": [
    "labels=data.target\n",
    "print(labels.shape)\n",
    "features=data.data\n",
    "print(features.shape)"
   ]
  },
  {
   "cell_type": "code",
   "execution_count": 4,
   "metadata": {},
   "outputs": [],
   "source": [
    "label_1=np.where(labels == 1)[0]\n",
    "label_1=list(label_1)\n",
    "features_1=features[label_1]\n",
    "features_1_trn=features_1[list(range(0,36))]\n",
    "features_1_tst=features_1[list(range(36,73))]\n",
    "label_0=np.where(labels == -1)[0]\n",
    "label_0=list(label_0)\n",
    "features_0=features[label_0]\n",
    "features_0_trn=features_0[list(range(0,1231))]\n",
    "features_0_tst=features_0[list(range(1231,2463))]\n",
    "training_data=np.concatenate((features_1_trn,features_0_trn))\n",
    "test_data=np.concatenate((features_1_tst,features_0_tst))\n",
    "training_labels=np.concatenate((np.zeros(len(features_1_trn))+1, \n",
    "                                np.zeros(len(features_0_trn))))\n",
    "test_labels=np.concatenate((np.zeros(len(features_1_tst))+1, \n",
    "                            np.zeros(len(features_0_tst))))"
   ]
  },
  {
   "cell_type": "markdown",
   "metadata": {},
   "source": [
    "## LoRAS oversampling"
   ]
  },
  {
   "cell_type": "code",
   "execution_count": 5,
   "metadata": {},
   "outputs": [],
   "source": [
    "import loras"
   ]
  },
  {
   "cell_type": "code",
   "execution_count": 6,
   "metadata": {},
   "outputs": [],
   "source": [
    "min_class_points = features_1_trn\n",
    "maj_class_points = features_0_trn\n",
    "k = 12\n",
    "num_shadow_points = 40\n",
    "num_generated_points=(len(features_0)-len(features_1))//len(features_1)\n",
    "num_aff_comb = 72"
   ]
  },
  {
   "cell_type": "code",
   "execution_count": 7,
   "metadata": {},
   "outputs": [
    {
     "name": "stdout",
     "output_type": "stream",
     "text": [
      "(1188, 72)\n",
      "(2419, 72)\n",
      "(2419,)\n"
     ]
    }
   ],
   "source": [
    "loras_min_class_points = loras.fit_resample(maj_class_points, \n",
    "                                            min_class_points, k=k, \n",
    "                                            num_shadow_points=num_shadow_points, \n",
    "                                            num_generated_points=num_generated_points,\n",
    "                                            num_aff_comb=num_aff_comb)\n",
    "print(loras_min_class_points.shape)\n",
    "LoRAS_feat = np.concatenate((loras_min_class_points, maj_class_points))\n",
    "LoRAS_labels = np.concatenate((np.zeros(len(loras_min_class_points))+1, \n",
    "                               np.zeros(len(maj_class_points))))\n",
    "print(LoRAS_feat.shape)\n",
    "print(LoRAS_labels.shape)## SMOTE and its extensions oversampling"
   ]
  },
  {
   "cell_type": "markdown",
   "metadata": {},
   "source": [
    "## SMOTE and its extensions oversampling"
   ]
  },
  {
   "cell_type": "code",
   "execution_count": 8,
   "metadata": {},
   "outputs": [],
   "source": [
    "from imblearn.over_sampling import SMOTE, BorderlineSMOTE, SVMSMOTE, ADASYN"
   ]
  },
  {
   "cell_type": "code",
   "execution_count": 9,
   "metadata": {},
   "outputs": [
    {
     "name": "stdout",
     "output_type": "stream",
     "text": [
      "(2462, 72)\n",
      "(2462,)\n"
     ]
    }
   ],
   "source": [
    "sm = SMOTE(random_state=42, k_neighbors=12, ratio=1)\n",
    "SMOTE_feat, SMOTE_labels = sm.fit_resample(training_data,training_labels)\n",
    "print(SMOTE_feat.shape)\n",
    "print(SMOTE_labels.shape)"
   ]
  },
  {
   "cell_type": "code",
   "execution_count": 10,
   "metadata": {},
   "outputs": [
    {
     "name": "stdout",
     "output_type": "stream",
     "text": [
      "(2462, 72)\n",
      "(2462,)\n"
     ]
    }
   ],
   "source": [
    "smb = BorderlineSMOTE(random_state=42, k_neighbors=12, kind='borderline-1')\n",
    "SMOTEb_feat, SMOTEb_labels = smb.fit_resample(training_data,training_labels)\n",
    "print(SMOTEb_feat.shape)\n",
    "print(SMOTEb_labels.shape)"
   ]
  },
  {
   "cell_type": "code",
   "execution_count": 11,
   "metadata": {},
   "outputs": [
    {
     "name": "stdout",
     "output_type": "stream",
     "text": [
      "(2462, 72)\n",
      "(2462,)\n"
     ]
    }
   ],
   "source": [
    "smbt = BorderlineSMOTE(random_state=42, k_neighbors=12, kind='borderline-2')\n",
    "SMOTEbt_feat, SMOTEbt_labels = smb.fit_resample(training_data,training_labels)\n",
    "print(SMOTEbt_feat.shape)\n",
    "print(SMOTEbt_labels.shape)"
   ]
  },
  {
   "cell_type": "code",
   "execution_count": 12,
   "metadata": {},
   "outputs": [
    {
     "name": "stdout",
     "output_type": "stream",
     "text": [
      "(1924, 72)\n",
      "(1924,)\n"
     ]
    }
   ],
   "source": [
    "sms = SVMSMOTE(random_state=42, k_neighbors=12)\n",
    "SMOTEs_feat, SMOTEs_labels = sms.fit_resample(training_data,training_labels)\n",
    "print(SMOTEs_feat.shape)\n",
    "print(SMOTEs_labels.shape)"
   ]
  },
  {
   "cell_type": "code",
   "execution_count": 13,
   "metadata": {},
   "outputs": [
    {
     "name": "stdout",
     "output_type": "stream",
     "text": [
      "(2458, 72)\n",
      "(2458,)\n"
     ]
    }
   ],
   "source": [
    "ada = ADASYN(random_state=111, n_neighbors=12, ratio=1)\n",
    "ADA_feat, ADA_labels = ada.fit_resample(training_data,training_labels)\n",
    "print(ADA_feat.shape)\n",
    "print(ADA_labels.shape)"
   ]
  },
  {
   "cell_type": "markdown",
   "metadata": {},
   "source": [
    "## Defining ML models and metrics"
   ]
  },
  {
   "cell_type": "code",
   "execution_count": 14,
   "metadata": {},
   "outputs": [],
   "source": [
    "from sklearn.metrics import f1_score, balanced_accuracy_score, average_precision_score\n",
    "from sklearn.neighbors import KNeighborsClassifier\n",
    "from sklearn.linear_model import LogisticRegression"
   ]
  },
  {
   "cell_type": "code",
   "execution_count": 15,
   "metadata": {},
   "outputs": [],
   "source": [
    "def get_metrics(y_test, y_pred, y_prob):\n",
    "    metrics = []\n",
    "    metrics.append(f1_score(y_test, y_pred))\n",
    "    metrics.append(balanced_accuracy_score(y_test, y_pred))\n",
    "    metrics.append(average_precision_score(y_test, y_prob[:,1]))\n",
    "    return metrics"
   ]
  },
  {
   "cell_type": "code",
   "execution_count": 16,
   "metadata": {},
   "outputs": [],
   "source": [
    "def knn(X_train,y_train,X_test,y_test):\n",
    "    knn = KNeighborsClassifier(n_neighbors=29)\n",
    "    knn.fit(X_train, y_train)\n",
    "    y_pred = knn.predict(X_test)\n",
    "    y_prob = knn.predict_proba(X_test)\n",
    "    return get_metrics(y_test, y_pred, y_prob)"
   ]
  },
  {
   "cell_type": "code",
   "execution_count": 23,
   "metadata": {},
   "outputs": [],
   "source": [
    "def lr(X_train, y_train, X_test, y_test):\n",
    "    logreg = LogisticRegression(C=1e5, solver='lbfgs', multi_class='multinomial', class_weight={0: 1, 1: 1})\n",
    "    logreg.fit(X_train, y_train)\n",
    "    y_pred = logreg.predict(X_test)\n",
    "    y_prob = logreg.predict_proba(X_test)\n",
    "    return get_metrics(y_test, y_pred, y_prob)"
   ]
  },
  {
   "cell_type": "markdown",
   "metadata": {},
   "source": [
    "## Training"
   ]
  },
  {
   "cell_type": "code",
   "execution_count": 26,
   "metadata": {},
   "outputs": [
    {
     "name": "stderr",
     "output_type": "stream",
     "text": [
      "/Users/bergen/anaconda3/envs/pylite/lib/python3.7/site-packages/sklearn/metrics/classification.py:1437: UndefinedMetricWarning: F-score is ill-defined and being set to 0.0 due to no predicted samples.\n",
      "  'precision', 'predicted', average, warn_for)\n",
      "/Users/bergen/anaconda3/envs/pylite/lib/python3.7/site-packages/sklearn/linear_model/logistic.py:947: ConvergenceWarning: lbfgs failed to converge. Increase the number of iterations.\n",
      "  \"of iterations.\", ConvergenceWarning)\n",
      "/Users/bergen/anaconda3/envs/pylite/lib/python3.7/site-packages/sklearn/linear_model/logistic.py:947: ConvergenceWarning: lbfgs failed to converge. Increase the number of iterations.\n",
      "  \"of iterations.\", ConvergenceWarning)\n",
      "/Users/bergen/anaconda3/envs/pylite/lib/python3.7/site-packages/sklearn/linear_model/logistic.py:947: ConvergenceWarning: lbfgs failed to converge. Increase the number of iterations.\n",
      "  \"of iterations.\", ConvergenceWarning)\n",
      "/Users/bergen/anaconda3/envs/pylite/lib/python3.7/site-packages/sklearn/linear_model/logistic.py:947: ConvergenceWarning: lbfgs failed to converge. Increase the number of iterations.\n",
      "  \"of iterations.\", ConvergenceWarning)\n",
      "/Users/bergen/anaconda3/envs/pylite/lib/python3.7/site-packages/sklearn/linear_model/logistic.py:947: ConvergenceWarning: lbfgs failed to converge. Increase the number of iterations.\n",
      "  \"of iterations.\", ConvergenceWarning)\n",
      "/Users/bergen/anaconda3/envs/pylite/lib/python3.7/site-packages/sklearn/linear_model/logistic.py:947: ConvergenceWarning: lbfgs failed to converge. Increase the number of iterations.\n",
      "  \"of iterations.\", ConvergenceWarning)\n",
      "/Users/bergen/anaconda3/envs/pylite/lib/python3.7/site-packages/sklearn/linear_model/logistic.py:947: ConvergenceWarning: lbfgs failed to converge. Increase the number of iterations.\n",
      "  \"of iterations.\", ConvergenceWarning)\n"
     ]
    }
   ],
   "source": [
    "results_normal_knn = knn(training_data, training_labels, test_data, test_labels)\n",
    "results_normal_lr = lr(training_data, training_labels, test_data, test_labels)\n",
    "\n",
    "results_loras_knn = knn(LoRAS_feat, LoRAS_labels, test_data, test_labels)\n",
    "results_loras_lr = lr(LoRAS_feat, LoRAS_labels, test_data, test_labels)\n",
    "\n",
    "results_sm_knn = knn(SMOTE_feat, SMOTE_labels, test_data, test_labels)\n",
    "results_sm_lr = lr(SMOTE_feat, SMOTE_labels, test_data, test_labels)\n",
    "\n",
    "results_sms_knn = knn(SMOTEs_feat, SMOTEs_labels, test_data, test_labels)\n",
    "results_sms_lr = lr(SMOTEs_feat, SMOTEs_labels, test_data, test_labels)\n",
    "\n",
    "results_smb_knn = knn(SMOTEb_feat, SMOTEb_labels, test_data, test_labels)\n",
    "results_smb_lr = lr(SMOTEb_feat, SMOTEb_labels, test_data, test_labels)\n",
    "\n",
    "results_smbt_knn = knn(SMOTEbt_feat, SMOTEbt_labels, test_data, test_labels)\n",
    "results_smbt_lr = lr(SMOTEbt_feat, SMOTEbt_labels, test_data, test_labels)\n",
    "\n",
    "results_ada_knn = knn(ADA_feat, ADA_labels, test_data, test_labels)\n",
    "results_ada_lr = lr(ADA_feat, ADA_labels, test_data, test_labels)\n",
    "\n",
    "results = [results_normal_knn, results_normal_lr, results_loras_knn, \n",
    "           results_loras_lr, results_sm_knn, results_sm_lr, \n",
    "           results_sms_knn, results_sms_lr, results_smb_knn, \n",
    "           results_smb_lr, results_smbt_knn, results_smbt_lr, \n",
    "           results_ada_knn, results_ada_lr]"
   ]
  },
  {
   "cell_type": "code",
   "execution_count": 27,
   "metadata": {},
   "outputs": [
    {
     "name": "stdout",
     "output_type": "stream",
     "text": [
      "Normal KNN  : [\n",
      "f1_score  :  0.0\n",
      "balanced_accuracy_score  :  0.5\n",
      "average_precision_score  :  0.05796703413379864\n",
      "]\n",
      "Normal LR  : [\n",
      "f1_score  :  0.052631578947368425\n",
      "balanced_accuracy_score  :  0.5135135135135135\n",
      "average_precision_score  :  0.3118388055667834\n",
      "]\n",
      "LoRAS KNN  : [\n",
      "f1_score  :  0.10972568578553617\n",
      "balanced_accuracy_score  :  0.6584985959985961\n",
      "average_precision_score  :  0.05549443844806338\n",
      "]\n",
      "LoRAS LR  : [\n",
      "f1_score  :  0.2254901960784314\n",
      "balanced_accuracy_score  :  0.7523692523692523\n",
      "average_precision_score  :  0.2535720324522699\n",
      "]\n",
      "SMOTE KNN  : [\n",
      "f1_score  :  0.10722610722610723\n",
      "balanced_accuracy_score  :  0.6610543173043173\n",
      "average_precision_score  :  0.06426709638423649\n",
      "]\n",
      "SMOTE LR  : [\n",
      "f1_score  :  0.21374045801526717\n",
      "balanced_accuracy_score  :  0.7984270796770797\n",
      "average_precision_score  :  0.2911811334083407\n",
      "]\n",
      "SMOTE SVM KNN  : [\n",
      "f1_score  :  0.14166666666666666\n",
      "balanced_accuracy_score  :  0.6542427167427167\n",
      "average_precision_score  :  0.06538971052269957\n",
      "]\n",
      "SMOTE SVM LR  : [\n",
      "f1_score  :  0.2911392405063291\n",
      "balanced_accuracy_score  :  0.7710380835380835\n",
      "average_precision_score  :  0.30224686644876225\n",
      "]\n",
      "SMOTE BORDELINE-1 KNN  : [\n",
      "f1_score  :  0.12244897959183675\n",
      "balanced_accuracy_score  :  0.6681181993681994\n",
      "average_precision_score  :  0.06274978769434382\n",
      "]\n",
      "SMOTE BORDELINE-1 LR  : [\n",
      "f1_score  :  0.24434389140271495\n",
      "balanced_accuracy_score  :  0.8011473323973324\n",
      "average_precision_score  :  0.2879539315176813\n",
      "]\n",
      "SMOTE BORDELINE-2 KNN  : [\n",
      "f1_score  :  0.12244897959183675\n",
      "balanced_accuracy_score  :  0.6681181993681994\n",
      "average_precision_score  :  0.06274978769434382\n",
      "]\n",
      "SMOTE BORDELINE-2 LR  : [\n",
      "f1_score  :  0.24434389140271495\n",
      "balanced_accuracy_score  :  0.8011473323973324\n",
      "average_precision_score  :  0.2879539315176813\n",
      "]\n",
      "ADASYN KNN  : [\n",
      "f1_score  :  0.11085450346420325\n",
      "balanced_accuracy_score  :  0.6733502983502984\n",
      "average_precision_score  :  0.08042159107410342\n",
      "]\n",
      "ADASYN LR  : [\n",
      "f1_score  :  0.220532319391635\n",
      "balanced_accuracy_score  :  0.8119405931905932\n",
      "average_precision_score  :  0.2734630461636826\n",
      "]\n"
     ]
    }
   ],
   "source": [
    "res_names = ['Normal KNN', 'Normal LR', 'LoRAS KNN', 'LoRAS LR', \n",
    "             'SMOTE KNN', 'SMOTE LR', 'SMOTE SVM KNN', 'SMOTE SVM LR', \n",
    "             'SMOTE BORDELINE-1 KNN', 'SMOTE BORDELINE-1 LR', \n",
    "             'SMOTE BORDELINE-2 KNN', 'SMOTE BORDELINE-2 LR', \n",
    "             'ADASYN KNN', 'ADASYN LR']\n",
    "met_names = ['f1_score', 'balanced_accuracy_score', \n",
    "             'average_precision_score']\n",
    "for res, r_name in zip(results, res_names):\n",
    "    print(r_name, \" : [\")\n",
    "    for met,r in zip(res,met_names):\n",
    "        print(r, \" : \", met)\n",
    "    print(\"]\")"
   ]
  },
  {
   "cell_type": "code",
   "execution_count": null,
   "metadata": {},
   "outputs": [],
   "source": []
  }
 ],
 "metadata": {
  "kernelspec": {
   "display_name": "Python 3",
   "language": "python",
   "name": "python3"
  },
  "language_info": {
   "codemirror_mode": {
    "name": "ipython",
    "version": 3
   },
   "file_extension": ".py",
   "mimetype": "text/x-python",
   "name": "python",
   "nbconvert_exporter": "python",
   "pygments_lexer": "ipython3",
   "version": "3.7.4"
  }
 },
 "nbformat": 4,
 "nbformat_minor": 2
}
