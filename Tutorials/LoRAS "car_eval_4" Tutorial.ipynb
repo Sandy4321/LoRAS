{
 "cells": [
  {
   "cell_type": "markdown",
   "metadata": {},
   "source": [
    "# LoRAS \"car_eval_4\" Tutorial"
   ]
  },
  {
   "cell_type": "markdown",
   "metadata": {},
   "source": [
    "## Prepare dataset"
   ]
  },
  {
   "cell_type": "code",
   "execution_count": 1,
   "metadata": {},
   "outputs": [],
   "source": [
    "import pandas as pd\n",
    "import numpy as np"
   ]
  },
  {
   "cell_type": "code",
   "execution_count": 2,
   "metadata": {},
   "outputs": [
    {
     "name": "stderr",
     "output_type": "stream",
     "text": [
      "Using TensorFlow backend.\n"
     ]
    },
    {
     "data": {
      "text/plain": [
       "(1728, 21)"
      ]
     },
     "execution_count": 2,
     "metadata": {},
     "output_type": "execute_result"
    }
   ],
   "source": [
    "from collections import Counter\n",
    "from imblearn.datasets import fetch_datasets\n",
    "data = fetch_datasets()['car_eval_4']\n",
    "data.data.shape"
   ]
  },
  {
   "cell_type": "code",
   "execution_count": 3,
   "metadata": {},
   "outputs": [
    {
     "name": "stdout",
     "output_type": "stream",
     "text": [
      "(1728,)\n",
      "(1728, 21)\n"
     ]
    }
   ],
   "source": [
    "labels=data.target\n",
    "print(labels.shape)\n",
    "features=data.data\n",
    "print(features.shape)"
   ]
  },
  {
   "cell_type": "code",
   "execution_count": 5,
   "metadata": {},
   "outputs": [],
   "source": [
    "label_1=np.where(labels == 1)[0]\n",
    "label_1=list(label_1)\n",
    "features_1=features[label_1]\n",
    "features_1_trn=features_1[list(range(0,32))]\n",
    "features_1_tst=features_1[list(range(32,65))]\n",
    "label_0=np.where(labels == -1)[0]\n",
    "label_0=list(label_0)\n",
    "features_0=features[label_0]\n",
    "features_0_trn=features_0[list(range(0,831))]\n",
    "features_0_tst=features_0[list(range(831,1663))]\n",
    "training_data=np.concatenate((features_1_trn,features_0_trn))\n",
    "test_data=np.concatenate((features_1_tst,features_0_tst))\n",
    "training_labels=np.concatenate((np.zeros(len(features_1_trn))+1, \n",
    "                                np.zeros(len(features_0_trn))))\n",
    "test_labels=np.concatenate((np.zeros(len(features_1_tst))+1, \n",
    "                            np.zeros(len(features_0_tst))))"
   ]
  },
  {
   "cell_type": "markdown",
   "metadata": {},
   "source": [
    "## LoRAS oversampling"
   ]
  },
  {
   "cell_type": "code",
   "execution_count": 6,
   "metadata": {},
   "outputs": [],
   "source": [
    "import loras"
   ]
  },
  {
   "cell_type": "code",
   "execution_count": 7,
   "metadata": {},
   "outputs": [],
   "source": [
    "min_class_points = features_1_trn\n",
    "maj_class_points = features_0_trn\n",
    "k = 20\n",
    "num_shadow_points = 40\n",
    "num_generated_points=(len(features_0)-len(features_1))//len(features_1)\n",
    "num_aff_comb = 21"
   ]
  },
  {
   "cell_type": "code",
   "execution_count": 8,
   "metadata": {},
   "outputs": [
    {
     "name": "stdout",
     "output_type": "stream",
     "text": [
      "(800, 21)\n",
      "(1631, 21)\n",
      "(1631,)\n"
     ]
    }
   ],
   "source": [
    "loras_min_class_points = loras.fit_resample(maj_class_points, \n",
    "                                            min_class_points, k=k, \n",
    "                                            num_shadow_points=num_shadow_points, \n",
    "                                            num_generated_points=num_generated_points,\n",
    "                                            num_aff_comb=num_aff_comb)\n",
    "print(loras_min_class_points.shape)\n",
    "LoRAS_feat = np.concatenate((loras_min_class_points, maj_class_points))\n",
    "LoRAS_labels = np.concatenate((np.zeros(len(loras_min_class_points))+1, \n",
    "                               np.zeros(len(maj_class_points))))\n",
    "print(LoRAS_feat.shape)\n",
    "print(LoRAS_labels.shape)"
   ]
  },
  {
   "cell_type": "markdown",
   "metadata": {},
   "source": [
    "## SMOTE and its extensions oversampling"
   ]
  },
  {
   "cell_type": "code",
   "execution_count": 9,
   "metadata": {},
   "outputs": [],
   "source": [
    "from imblearn.over_sampling import SMOTE, BorderlineSMOTE, SVMSMOTE, ADASYN"
   ]
  },
  {
   "cell_type": "code",
   "execution_count": 10,
   "metadata": {},
   "outputs": [
    {
     "name": "stdout",
     "output_type": "stream",
     "text": [
      "(1662, 21)\n",
      "(1662,)\n"
     ]
    }
   ],
   "source": [
    "sm = SMOTE(random_state=42, k_neighbors=30, ratio=1)\n",
    "SMOTE_feat, SMOTE_labels = sm.fit_resample(training_data,training_labels)\n",
    "print(SMOTE_feat.shape)\n",
    "print(SMOTE_labels.shape)"
   ]
  },
  {
   "cell_type": "code",
   "execution_count": 11,
   "metadata": {},
   "outputs": [
    {
     "name": "stdout",
     "output_type": "stream",
     "text": [
      "(1662, 21)\n",
      "(1662,)\n"
     ]
    }
   ],
   "source": [
    "smb = BorderlineSMOTE(random_state=42, k_neighbors=30, kind='borderline-1')\n",
    "SMOTEb_feat, SMOTEb_labels = smb.fit_resample(training_data,training_labels)\n",
    "print(SMOTEb_feat.shape)\n",
    "print(SMOTEb_labels.shape)"
   ]
  },
  {
   "cell_type": "code",
   "execution_count": 12,
   "metadata": {},
   "outputs": [
    {
     "name": "stdout",
     "output_type": "stream",
     "text": [
      "(1662, 21)\n",
      "(1662,)\n"
     ]
    }
   ],
   "source": [
    "smbt = BorderlineSMOTE(random_state=42, k_neighbors=30, kind='borderline-2')\n",
    "SMOTEbt_feat, SMOTEbt_labels = smb.fit_resample(training_data,training_labels)\n",
    "print(SMOTEbt_feat.shape)\n",
    "print(SMOTEbt_labels.shape)"
   ]
  },
  {
   "cell_type": "code",
   "execution_count": 13,
   "metadata": {},
   "outputs": [
    {
     "name": "stdout",
     "output_type": "stream",
     "text": [
      "(1662, 21)\n",
      "(1662,)\n"
     ]
    }
   ],
   "source": [
    "sms = SVMSMOTE(random_state=42, k_neighbors=30)\n",
    "SMOTEs_feat, SMOTEs_labels = sms.fit_resample(training_data,training_labels)\n",
    "print(SMOTEs_feat.shape)\n",
    "print(SMOTEs_labels.shape)"
   ]
  },
  {
   "cell_type": "code",
   "execution_count": 20,
   "metadata": {},
   "outputs": [
    {
     "name": "stdout",
     "output_type": "stream",
     "text": [
      "(1658, 21)\n",
      "(1658,)\n"
     ]
    }
   ],
   "source": [
    "ada = ADASYN(random_state=42,n_neighbors=30)\n",
    "ADA_feat, ADA_labels = ada.fit_resample(training_data,training_labels)\n",
    "print(ADA_feat.shape)\n",
    "print(ADA_labels.shape)"
   ]
  },
  {
   "cell_type": "markdown",
   "metadata": {},
   "source": [
    "## Defining ML models and metrics"
   ]
  },
  {
   "cell_type": "code",
   "execution_count": 21,
   "metadata": {},
   "outputs": [],
   "source": [
    "from sklearn.metrics import f1_score, balanced_accuracy_score, average_precision_score\n",
    "from sklearn.neighbors import KNeighborsClassifier"
   ]
  },
  {
   "cell_type": "code",
   "execution_count": 22,
   "metadata": {},
   "outputs": [],
   "source": [
    "def get_metrics(y_test, y_pred, y_prob):\n",
    "    metrics = []\n",
    "    metrics.append(f1_score(y_test, y_pred))\n",
    "    metrics.append(balanced_accuracy_score(y_test, y_pred))\n",
    "    metrics.append(average_precision_score(y_test, y_prob[:,1]))\n",
    "    return metrics"
   ]
  },
  {
   "cell_type": "code",
   "execution_count": 23,
   "metadata": {},
   "outputs": [],
   "source": [
    "def knn(X_train,y_train,X_test,y_test):\n",
    "    knn = KNeighborsClassifier(n_neighbors=30)\n",
    "    knn.fit(X_train, y_train)\n",
    "    y_pred = knn.predict(X_test)\n",
    "    y_prob = knn.predict_proba(X_test)\n",
    "    return get_metrics(y_test, y_pred, y_prob)"
   ]
  },
  {
   "cell_type": "markdown",
   "metadata": {},
   "source": [
    "## Training"
   ]
  },
  {
   "cell_type": "code",
   "execution_count": 24,
   "metadata": {},
   "outputs": [],
   "source": [
    "results_normal_knn = knn(training_data, training_labels, test_data, test_labels)\n",
    "\n",
    "results_loras_knn = knn(LoRAS_feat, LoRAS_labels, test_data, test_labels)\n",
    "\n",
    "results_sm_knn = knn(SMOTE_feat, SMOTE_labels, test_data, test_labels)\n",
    "\n",
    "results_sms_knn = knn(SMOTEs_feat, SMOTEs_labels, test_data, test_labels)\n",
    "\n",
    "results_smb_knn = knn(SMOTEb_feat, SMOTEb_labels, test_data, test_labels)\n",
    "\n",
    "results_smbt_knn = knn(SMOTEbt_feat, SMOTEbt_labels, test_data, test_labels)\n",
    "\n",
    "results_ada_knn = knn(ADA_feat, ADA_labels, test_data, test_labels)\n",
    "\n",
    "results = [results_normal_knn, results_loras_knn, results_sm_knn, results_sms_knn, results_smb_knn, results_smbt_knn, results_ada_knn]"
   ]
  },
  {
   "cell_type": "code",
   "execution_count": 25,
   "metadata": {},
   "outputs": [
    {
     "name": "stdout",
     "output_type": "stream",
     "text": [
      "Normal KNN  : [\n",
      "f1_score  :  0.0\n",
      "balanced_accuracy_score  :  0.49939903846153844\n",
      "average_precision_score  :  0.19120856795480828\n",
      "]\n",
      "LoRAS KNN  : [\n",
      "f1_score  :  0.21639344262295082\n",
      "balanced_accuracy_score  :  0.8563701923076923\n",
      "average_precision_score  :  0.14980901451489687\n",
      "]\n",
      "SMOTE KNN  : [\n",
      "f1_score  :  0.13953488372093023\n",
      "balanced_accuracy_score  :  0.7554086538461539\n",
      "average_precision_score  :  0.15200831365604092\n",
      "]\n",
      "SMOTE SVM KNN  : [\n",
      "f1_score  :  0.16624685138539044\n",
      "balanced_accuracy_score  :  0.8010817307692308\n",
      "average_precision_score  :  0.37006655915736963\n",
      "]\n",
      "SMOTE BORDELINE-1 KNN  : [\n",
      "f1_score  :  0.14410480349344978\n",
      "balanced_accuracy_score  :  0.7644230769230769\n",
      "average_precision_score  :  0.36569904097759254\n",
      "]\n",
      "SMOTE BORDELINE-2 KNN  : [\n",
      "f1_score  :  0.14410480349344978\n",
      "balanced_accuracy_score  :  0.7644230769230769\n",
      "average_precision_score  :  0.36569904097759254\n",
      "]\n",
      "ADASYN KNN  : [\n",
      "f1_score  :  0.14072494669509597\n",
      "balanced_accuracy_score  :  0.7578125\n",
      "average_precision_score  :  0.14844877344877344\n",
      "]\n"
     ]
    }
   ],
   "source": [
    "res_names = ['Normal KNN', 'LoRAS KNN', 'SMOTE KNN', 'SMOTE SVM KNN', 'SMOTE BORDELINE-1 KNN', 'SMOTE BORDELINE-2 KNN', 'ADASYN KNN']\n",
    "met_names = ['f1_score', 'balanced_accuracy_score', 'average_precision_score']\n",
    "for res, r_name in zip(results, res_names):\n",
    "    print(r_name, \" : [\")\n",
    "    for met,r in zip(res,met_names):\n",
    "        print(r, \" : \", met)\n",
    "    print(\"]\")"
   ]
  },
  {
   "cell_type": "code",
   "execution_count": null,
   "metadata": {},
   "outputs": [],
   "source": []
  }
 ],
 "metadata": {
  "kernelspec": {
   "display_name": "Python 3",
   "language": "python",
   "name": "python3"
  },
  "language_info": {
   "codemirror_mode": {
    "name": "ipython",
    "version": 3
   },
   "file_extension": ".py",
   "mimetype": "text/x-python",
   "name": "python",
   "nbconvert_exporter": "python",
   "pygments_lexer": "ipython3",
   "version": "3.7.4"
  }
 },
 "nbformat": 4,
 "nbformat_minor": 2
}
