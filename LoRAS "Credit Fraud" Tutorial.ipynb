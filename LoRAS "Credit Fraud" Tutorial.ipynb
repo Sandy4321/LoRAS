{
 "cells": [
  {
   "cell_type": "markdown",
   "metadata": {},
   "source": [
    "# LoRAS \"Credit Fraud\" Tutorial"
   ]
  },
  {
   "cell_type": "markdown",
   "metadata": {},
   "source": [
    "## Prepare dataset"
   ]
  },
  {
   "cell_type": "code",
   "execution_count": 1,
   "metadata": {},
   "outputs": [],
   "source": [
    "import pandas as pd\n",
    "import numpy as np"
   ]
  },
  {
   "cell_type": "code",
   "execution_count": 2,
   "metadata": {
    "scrolled": true
   },
   "outputs": [
    {
     "data": {
      "text/plain": [
       "(284807, 31)"
      ]
     },
     "execution_count": 2,
     "metadata": {},
     "output_type": "execute_result"
    }
   ],
   "source": [
    "filename='creditcard.csv'\n",
    "data=pd.read_csv(filename)\n",
    "data=data.values\n",
    "data.shape"
   ]
  },
  {
   "cell_type": "markdown",
   "metadata": {},
   "source": [
    "## Prepare dataset"
   ]
  },
  {
   "cell_type": "code",
   "execution_count": 3,
   "metadata": {},
   "outputs": [],
   "source": [
    "labels=data[:,30]\n",
    "features=list(range(30))\n",
    "features=data[:,features]"
   ]
  },
  {
   "cell_type": "code",
   "execution_count": 4,
   "metadata": {},
   "outputs": [],
   "source": [
    "label_1=np.where(labels == 1)[0]\n",
    "label_1=list(label_1)\n",
    "features_1=features[label_1]\n",
    "features_1_trn=features_1[list(range(0,246))]\n",
    "features_1_tst=features_1[list(range(246,492))]\n",
    "label_0=np.where(labels == 0)[0]\n",
    "label_0=list(label_0)\n",
    "features_0=features[label_0]\n",
    "features_0_trn=features_0[list(range(0,142157))]\n",
    "features_0_tst=features_0[list(range(142157,284315))]\n",
    "training_data=np.concatenate((features_1_trn,features_0_trn))\n",
    "test_data=np.concatenate((features_1_tst,features_0_tst))\n",
    "training_labels=np.concatenate((np.zeros(246), np.zeros(142157)+1))\n",
    "test_labels=np.concatenate((np.zeros(246), np.zeros(142158)+1))"
   ]
  },
  {
   "cell_type": "markdown",
   "metadata": {},
   "source": [
    "## LoRAS oversampling"
   ]
  },
  {
   "cell_type": "code",
   "execution_count": 5,
   "metadata": {},
   "outputs": [],
   "source": [
    "import loras"
   ]
  },
  {
   "cell_type": "code",
   "execution_count": 6,
   "metadata": {},
   "outputs": [],
   "source": [
    "min_class_points = features_1_trn\n",
    "maj_class_points = features_0_trn\n",
    "# k = 10\n",
    "# num_shadow_points = 100\n",
    "# sigma = [.005]*min_class_points.shape[1]\n",
    "# num_generated_points = (len(features_0)-len(features_1))//len(features_1) #300\n",
    "# num_aff_comb = 300\n",
    "# seed = 42"
   ]
  },
  {
   "cell_type": "code",
   "execution_count": 7,
   "metadata": {
    "scrolled": false
   },
   "outputs": [
    {
     "name": "stdout",
     "output_type": "stream",
     "text": [
      "(142680, 30)\n",
      "(284837, 30)\n",
      "(284837,)\n"
     ]
    }
   ],
   "source": [
    "loras_min_class_points = loras.fit_resample(maj_class_points, min_class_points)\n",
    "print(loras_min_class_points.shape)\n",
    "LoRAS_feat = np.concatenate((loras_min_class_points, maj_class_points))\n",
    "LoRAS_labels = np.concatenate((np.zeros(len(loras_min_class_points)), np.zeros(len(maj_class_points))+1))\n",
    "print(LoRAS_feat.shape)\n",
    "print(LoRAS_labels.shape)"
   ]
  },
  {
   "cell_type": "markdown",
   "metadata": {},
   "source": [
    "## SMOTE and its extensions oversampling"
   ]
  },
  {
   "cell_type": "code",
   "execution_count": 8,
   "metadata": {},
   "outputs": [
    {
     "name": "stderr",
     "output_type": "stream",
     "text": [
      "Using TensorFlow backend.\n"
     ]
    }
   ],
   "source": [
    "from imblearn.over_sampling import SMOTE, BorderlineSMOTE, SVMSMOTE, ADASYN"
   ]
  },
  {
   "cell_type": "code",
   "execution_count": 9,
   "metadata": {},
   "outputs": [
    {
     "name": "stdout",
     "output_type": "stream",
     "text": [
      "(284314, 30)\n",
      "(284314,)\n"
     ]
    }
   ],
   "source": [
    "sm = SMOTE(random_state=42, k_neighbors=10)\n",
    "SMOTE_feat, SMOTE_labels = sm.fit_resample(training_data,training_labels)\n",
    "print(SMOTE_feat.shape)\n",
    "print(SMOTE_labels.shape)"
   ]
  },
  {
   "cell_type": "code",
   "execution_count": 10,
   "metadata": {},
   "outputs": [
    {
     "name": "stdout",
     "output_type": "stream",
     "text": [
      "(284314, 30)\n",
      "(284314,)\n"
     ]
    }
   ],
   "source": [
    "smb = BorderlineSMOTE(random_state=42, k_neighbors=10, kind='borderline-1')\n",
    "SMOTEb_feat, SMOTEb_labels = smb.fit_resample(training_data,training_labels)\n",
    "print(SMOTEb_feat.shape)\n",
    "print(SMOTEb_labels.shape)"
   ]
  },
  {
   "cell_type": "code",
   "execution_count": 11,
   "metadata": {},
   "outputs": [
    {
     "name": "stdout",
     "output_type": "stream",
     "text": [
      "(284314, 30)\n",
      "(284314,)\n"
     ]
    }
   ],
   "source": [
    "smbt = BorderlineSMOTE(random_state=42, k_neighbors=10, kind='borderline-2')\n",
    "SMOTEbt_feat, SMOTEbt_labels = smb.fit_resample(training_data,training_labels)\n",
    "print(SMOTEbt_feat.shape)\n",
    "print(SMOTEbt_labels.shape)"
   ]
  },
  {
   "cell_type": "code",
   "execution_count": 12,
   "metadata": {},
   "outputs": [
    {
     "name": "stdout",
     "output_type": "stream",
     "text": [
      "(220447, 30)\n",
      "(220447,)\n"
     ]
    }
   ],
   "source": [
    "sms = SVMSMOTE(random_state=42, k_neighbors=10)\n",
    "SMOTEs_feat, SMOTEs_labels = sms.fit_resample(training_data,training_labels)\n",
    "print(SMOTEs_feat.shape)\n",
    "print(SMOTEs_labels.shape)"
   ]
  },
  {
   "cell_type": "code",
   "execution_count": 13,
   "metadata": {},
   "outputs": [
    {
     "name": "stdout",
     "output_type": "stream",
     "text": [
      "(284303, 30)\n",
      "(284303,)\n"
     ]
    }
   ],
   "source": [
    "ada = ADASYN(random_state=42,n_neighbors=10)\n",
    "ADA_feat, ADA_labels = ada.fit_resample(training_data,training_labels)\n",
    "print(ADA_feat.shape)\n",
    "print(ADA_labels.shape)"
   ]
  },
  {
   "cell_type": "markdown",
   "metadata": {},
   "source": [
    "## Defining ML models and metrics"
   ]
  },
  {
   "cell_type": "code",
   "execution_count": 14,
   "metadata": {},
   "outputs": [],
   "source": [
    "from sklearn.metrics import f1_score, accuracy_score, precision_score, recall_score\n",
    "from sklearn.ensemble import RandomForestClassifier\n",
    "from sklearn.linear_model import LogisticRegression"
   ]
  },
  {
   "cell_type": "code",
   "execution_count": 15,
   "metadata": {},
   "outputs": [],
   "source": [
    "def get_metrics(y_test, y_pred):\n",
    "    metrics = []\n",
    "    metrics.append(f1_score(y_test, y_pred))\n",
    "    metrics.append(accuracy_score(y_test, y_pred))\n",
    "    metrics.append(precision_score(y_test, y_pred))\n",
    "    metrics.append(recall_score(y_test, y_pred))\n",
    "    return metrics"
   ]
  },
  {
   "cell_type": "code",
   "execution_count": 16,
   "metadata": {},
   "outputs": [],
   "source": [
    "def lr(X_train, y_train, X_test, y_test):\n",
    "    logreg = LogisticRegression(C=1e5, solver='lbfgs',random_state=42)\n",
    "    logreg.fit(X_train, y_train)\n",
    "    y_pred = logreg.predict(X_test)\n",
    "    return get_metrics(y_test, y_pred)"
   ]
  },
  {
   "cell_type": "code",
   "execution_count": 17,
   "metadata": {},
   "outputs": [],
   "source": [
    "def rf(X_train, y_train, X_test, y_test):\n",
    "    det = RandomForestClassifier(n_estimators=100, max_depth=2,random_state=42)\n",
    "    det.fit(X_train, y_train)\n",
    "    y_pred = det.predict(X_test)\n",
    "    return get_metrics(y_test, y_pred)"
   ]
  },
  {
   "cell_type": "markdown",
   "metadata": {},
   "source": [
    "## Training"
   ]
  },
  {
   "cell_type": "code",
   "execution_count": 18,
   "metadata": {},
   "outputs": [
    {
     "name": "stderr",
     "output_type": "stream",
     "text": [
      "/Users/bergen/anaconda3/envs/pylite/lib/python3.7/site-packages/sklearn/linear_model/logistic.py:947: ConvergenceWarning: lbfgs failed to converge. Increase the number of iterations.\n",
      "  \"of iterations.\", ConvergenceWarning)\n",
      "/Users/bergen/anaconda3/envs/pylite/lib/python3.7/site-packages/sklearn/linear_model/logistic.py:947: ConvergenceWarning: lbfgs failed to converge. Increase the number of iterations.\n",
      "  \"of iterations.\", ConvergenceWarning)\n",
      "/Users/bergen/anaconda3/envs/pylite/lib/python3.7/site-packages/sklearn/linear_model/logistic.py:947: ConvergenceWarning: lbfgs failed to converge. Increase the number of iterations.\n",
      "  \"of iterations.\", ConvergenceWarning)\n",
      "/Users/bergen/anaconda3/envs/pylite/lib/python3.7/site-packages/sklearn/linear_model/logistic.py:947: ConvergenceWarning: lbfgs failed to converge. Increase the number of iterations.\n",
      "  \"of iterations.\", ConvergenceWarning)\n",
      "/Users/bergen/anaconda3/envs/pylite/lib/python3.7/site-packages/sklearn/linear_model/logistic.py:947: ConvergenceWarning: lbfgs failed to converge. Increase the number of iterations.\n",
      "  \"of iterations.\", ConvergenceWarning)\n",
      "/Users/bergen/anaconda3/envs/pylite/lib/python3.7/site-packages/sklearn/linear_model/logistic.py:947: ConvergenceWarning: lbfgs failed to converge. Increase the number of iterations.\n",
      "  \"of iterations.\", ConvergenceWarning)\n"
     ]
    }
   ],
   "source": [
    "results_normal_lr = lr(training_data, training_labels, test_data, test_labels)\n",
    "results_normal_rf = rf(training_data, training_labels, test_data, test_labels)\n",
    "\n",
    "results_loras_lr = lr(LoRAS_feat, LoRAS_labels, test_data, test_labels)\n",
    "results_loras_rf = rf(LoRAS_feat, LoRAS_labels, test_data, test_labels)\n",
    "\n",
    "results_sm_lr = lr(SMOTE_feat, SMOTE_labels, test_data, test_labels)\n",
    "results_sm_rf = rf(SMOTE_feat, SMOTE_labels, test_data, test_labels)\n",
    "\n",
    "results_smb_lr = lr(SMOTEb_feat, SMOTEb_labels, test_data, test_labels)\n",
    "results_smb_rf = rf(SMOTEb_feat, SMOTEb_labels, test_data, test_labels)\n",
    "\n",
    "results_smbt_lr = lr(SMOTEbt_feat, SMOTEbt_labels, test_data, test_labels)\n",
    "results_smbt_rf = rf(SMOTEbt_feat, SMOTEbt_labels, test_data, test_labels)\n",
    "\n",
    "results_ada_lr = lr(ADA_feat, ADA_labels, test_data, test_labels)\n",
    "results_ada_rf = rf(ADA_feat, ADA_labels, test_data, test_labels)"
   ]
  },
  {
   "cell_type": "code",
   "execution_count": null,
   "metadata": {},
   "outputs": [],
   "source": []
  },
  {
   "cell_type": "code",
   "execution_count": null,
   "metadata": {},
   "outputs": [],
   "source": []
  },
  {
   "cell_type": "code",
   "execution_count": null,
   "metadata": {},
   "outputs": [],
   "source": []
  }
 ],
 "metadata": {
  "kernelspec": {
   "display_name": "Python 3",
   "language": "python",
   "name": "python3"
  },
  "language_info": {
   "codemirror_mode": {
    "name": "ipython",
    "version": 3
   },
   "file_extension": ".py",
   "mimetype": "text/x-python",
   "name": "python",
   "nbconvert_exporter": "python",
   "pygments_lexer": "ipython3",
   "version": "3.7.4"
  }
 },
 "nbformat": 4,
 "nbformat_minor": 2
}
